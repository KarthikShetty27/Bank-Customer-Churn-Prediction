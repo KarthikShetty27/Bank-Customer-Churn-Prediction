{
  "nbformat": 4,
  "nbformat_minor": 0,
  "metadata": {
    "colab": {
      "provenance": [],
      "collapsed_sections": []
    },
    "kernelspec": {
      "name": "python3",
      "display_name": "Python 3"
    }
  },
  "cells": [
    {
      "cell_type": "markdown",
      "metadata": {
        "id": "lP6JLo1tGNBg"
      },
      "source": [
        "# IIS Project Title: <br> Bank Customer Churn Prediction"
      ]
    },
    {
      "cell_type": "markdown",
      "metadata": {
        "id": "gWZyYmS_UE_L"
      },
      "source": [
        "### Importing the libraries"
      ]
    },
    {
      "cell_type": "code",
      "metadata": {
        "id": "MxkJoQBkUIHC"
      },
      "source": [
        "import numpy as np\n",
        "import pandas as pd\n",
        "import tensorflow as tf"
      ],
      "execution_count": 1,
      "outputs": []
    },
    {
      "cell_type": "markdown",
      "metadata": {
        "id": "1E0Q3aoKUCRX"
      },
      "source": [
        "## Part 1 - Data Preprocessing"
      ]
    },
    {
      "cell_type": "markdown",
      "metadata": {
        "id": "cKWAkFVGUU0Z"
      },
      "source": [
        "### Importing the dataset"
      ]
    },
    {
      "cell_type": "code",
      "metadata": {
        "id": "MXUkhkMfU4wq"
      },
      "source": [
        "dataset = pd.read_csv('Churn_Modelling.csv')\n",
        "X = dataset.iloc[:, 3:-1].values\n",
        "y = dataset.iloc[:, -1].values"
      ],
      "execution_count": 2,
      "outputs": []
    },
    {
      "cell_type": "code",
      "metadata": {
        "id": "VYP9cQTWbzuI",
        "outputId": "a1847d6e-df2b-4780-b191-3bdaced85546",
        "colab": {
          "base_uri": "https://localhost:8080/"
        }
      },
      "source": [
        "print(X)"
      ],
      "execution_count": 3,
      "outputs": [
        {
          "output_type": "stream",
          "name": "stdout",
          "text": [
            "[[619 'France' 'Female' ... 1 1 101348.88]\n",
            " [608 'Spain' 'Female' ... 0 1 112542.58]\n",
            " [502 'France' 'Female' ... 1 0 113931.57]\n",
            " ...\n",
            " [709 'France' 'Female' ... 0 1 42085.58]\n",
            " [772 'Germany' 'Male' ... 1 0 92888.52]\n",
            " [792 'France' 'Female' ... 1 0 38190.78]]\n"
          ]
        }
      ]
    },
    {
      "cell_type": "code",
      "metadata": {
        "id": "38vKGE6Nb2RR",
        "outputId": "2d11011d-195e-450d-a5c5-2ae91fda3f71",
        "colab": {
          "base_uri": "https://localhost:8080/"
        }
      },
      "source": [
        "print(y)"
      ],
      "execution_count": 4,
      "outputs": [
        {
          "output_type": "stream",
          "name": "stdout",
          "text": [
            "[1 0 1 ... 1 1 0]\n"
          ]
        }
      ]
    },
    {
      "cell_type": "markdown",
      "metadata": {
        "id": "N6bQ0UgSU-NJ"
      },
      "source": [
        "### Encoding categorical data"
      ]
    },
    {
      "cell_type": "markdown",
      "metadata": {
        "id": "le5MJreAbW52"
      },
      "source": [
        "Label Encoding the \"Gender\" column"
      ]
    },
    {
      "cell_type": "code",
      "metadata": {
        "id": "PxVKWXxLbczC"
      },
      "source": [
        "from sklearn.preprocessing import LabelEncoder\n",
        "le = LabelEncoder()\n",
        "X[:, 2] = le.fit_transform(X[:, 2])"
      ],
      "execution_count": 5,
      "outputs": []
    },
    {
      "cell_type": "code",
      "metadata": {
        "id": "-M1KboxFb6OO",
        "outputId": "26f712db-aff5-4b37-cfda-8fbdfabf20e7",
        "colab": {
          "base_uri": "https://localhost:8080/"
        }
      },
      "source": [
        "print(X)"
      ],
      "execution_count": 6,
      "outputs": [
        {
          "output_type": "stream",
          "name": "stdout",
          "text": [
            "[[619 'France' 0 ... 1 1 101348.88]\n",
            " [608 'Spain' 0 ... 0 1 112542.58]\n",
            " [502 'France' 0 ... 1 0 113931.57]\n",
            " ...\n",
            " [709 'France' 0 ... 0 1 42085.58]\n",
            " [772 'Germany' 1 ... 1 0 92888.52]\n",
            " [792 'France' 0 ... 1 0 38190.78]]\n"
          ]
        }
      ]
    },
    {
      "cell_type": "markdown",
      "metadata": {
        "id": "CUxGZezpbMcb"
      },
      "source": [
        "One Hot Encoding the \"Geography\" column"
      ]
    },
    {
      "cell_type": "code",
      "metadata": {
        "id": "AMXC8-KMVirw"
      },
      "source": [
        "from sklearn.compose import ColumnTransformer\n",
        "from sklearn.preprocessing import OneHotEncoder\n",
        "ct = ColumnTransformer(transformers=[('encoder', OneHotEncoder(), [1])], remainder='passthrough')\n",
        "X = np.array(ct.fit_transform(X))"
      ],
      "execution_count": 7,
      "outputs": []
    },
    {
      "cell_type": "code",
      "metadata": {
        "id": "ZcxwEon-b8nV",
        "outputId": "76490e35-9cf5-4cab-d98b-bff92b6087f9",
        "colab": {
          "base_uri": "https://localhost:8080/"
        }
      },
      "source": [
        "print(X)"
      ],
      "execution_count": 8,
      "outputs": [
        {
          "output_type": "stream",
          "name": "stdout",
          "text": [
            "[[1.0 0.0 0.0 ... 1 1 101348.88]\n",
            " [0.0 0.0 1.0 ... 0 1 112542.58]\n",
            " [1.0 0.0 0.0 ... 1 0 113931.57]\n",
            " ...\n",
            " [1.0 0.0 0.0 ... 0 1 42085.58]\n",
            " [0.0 1.0 0.0 ... 1 0 92888.52]\n",
            " [1.0 0.0 0.0 ... 1 0 38190.78]]\n"
          ]
        }
      ]
    },
    {
      "cell_type": "markdown",
      "metadata": {
        "id": "vHol938cW8zd"
      },
      "source": [
        "### Splitting the dataset into the Training set and Test set"
      ]
    },
    {
      "cell_type": "code",
      "metadata": {
        "id": "Z-TDt0Y_XEfc"
      },
      "source": [
        "from sklearn.model_selection import train_test_split\n",
        "X_train, X_test, y_train, y_test = train_test_split(X, y, test_size = 0.3, random_state = 0)"
      ],
      "execution_count": 9,
      "outputs": []
    },
    {
      "cell_type": "markdown",
      "metadata": {
        "id": "RE_FcHyfV3TQ"
      },
      "source": [
        "### Feature Scaling"
      ]
    },
    {
      "cell_type": "code",
      "metadata": {
        "id": "ViCrE00rV8Sk"
      },
      "source": [
        "from sklearn.preprocessing import StandardScaler\n",
        "sc = StandardScaler()\n",
        "X_train = sc.fit_transform(X_train)\n",
        "X_test = sc.transform(X_test)"
      ],
      "execution_count": 10,
      "outputs": []
    },
    {
      "cell_type": "markdown",
      "metadata": {
        "id": "-zfEzkRVXIwF"
      },
      "source": [
        "## Part 2 - Building the ANN"
      ]
    },
    {
      "cell_type": "markdown",
      "metadata": {
        "id": "KvdeScabXtlB"
      },
      "source": [
        "### Initializing the ANN"
      ]
    },
    {
      "cell_type": "code",
      "metadata": {
        "id": "3dtrScHxXQox"
      },
      "source": [
        "ann = tf.keras.models.Sequential()"
      ],
      "execution_count": 11,
      "outputs": []
    },
    {
      "cell_type": "markdown",
      "metadata": {
        "id": "rP6urV6SX7kS"
      },
      "source": [
        "### Adding the input layer and the first hidden layer"
      ]
    },
    {
      "cell_type": "code",
      "metadata": {
        "id": "bppGycBXYCQr"
      },
      "source": [
        "ann.add(tf.keras.layers.Dense(units=6, activation='relu'))"
      ],
      "execution_count": 12,
      "outputs": []
    },
    {
      "cell_type": "markdown",
      "metadata": {
        "id": "BELWAc_8YJze"
      },
      "source": [
        "### Adding the second hidden layer"
      ]
    },
    {
      "cell_type": "code",
      "metadata": {
        "id": "JneR0u0sYRTd"
      },
      "source": [
        "ann.add(tf.keras.layers.Dense(units=6, activation='relu'))"
      ],
      "execution_count": 13,
      "outputs": []
    },
    {
      "cell_type": "code",
      "source": [
        "ann.add(tf.keras.layers.Dense(units=6, activation='relu'))"
      ],
      "metadata": {
        "id": "nKxhWLkxaBJ7"
      },
      "execution_count": 14,
      "outputs": []
    },
    {
      "cell_type": "code",
      "source": [
        "ann.add(tf.keras.layers.Dense(units=6, activation='relu'))"
      ],
      "metadata": {
        "id": "cDDNINMNahmw"
      },
      "execution_count": 15,
      "outputs": []
    },
    {
      "cell_type": "markdown",
      "metadata": {
        "id": "OyNEe6RXYcU4"
      },
      "source": [
        "### Adding the output layer"
      ]
    },
    {
      "cell_type": "code",
      "metadata": {
        "id": "Cn3x41RBYfvY"
      },
      "source": [
        "ann.add(tf.keras.layers.Dense(units=1, activation='sigmoid'))"
      ],
      "execution_count": 16,
      "outputs": []
    },
    {
      "cell_type": "markdown",
      "metadata": {
        "id": "JT4u2S1_Y4WG"
      },
      "source": [
        "## Part 3 - Training the ANN"
      ]
    },
    {
      "cell_type": "markdown",
      "metadata": {
        "id": "8GWlJChhY_ZI"
      },
      "source": [
        "### Compiling the ANN"
      ]
    },
    {
      "cell_type": "code",
      "metadata": {
        "id": "fG3RrwDXZEaS"
      },
      "source": [
        "ann.compile(optimizer = 'adam', loss = 'binary_crossentropy', metrics = ['accuracy'])"
      ],
      "execution_count": 17,
      "outputs": []
    },
    {
      "cell_type": "markdown",
      "metadata": {
        "id": "0QR_G5u7ZLSM"
      },
      "source": [
        "### Training the ANN on the Training set"
      ]
    },
    {
      "cell_type": "code",
      "metadata": {
        "id": "nHZ-LKv_ZRb3",
        "outputId": "eb20d33d-a0d3-425c-aebe-3c11a8d5510b",
        "colab": {
          "base_uri": "https://localhost:8080/"
        }
      },
      "source": [
        "ann.fit(X_train, y_train, batch_size = 32, epochs = 100)"
      ],
      "execution_count": 18,
      "outputs": [
        {
          "output_type": "stream",
          "name": "stdout",
          "text": [
            "Epoch 1/100\n",
            "219/219 [==============================] - 1s 2ms/step - loss: 0.5291 - accuracy: 0.7937\n",
            "Epoch 2/100\n",
            "219/219 [==============================] - 0s 2ms/step - loss: 0.4707 - accuracy: 0.7977\n",
            "Epoch 3/100\n",
            "219/219 [==============================] - 0s 2ms/step - loss: 0.4503 - accuracy: 0.7977\n",
            "Epoch 4/100\n",
            "219/219 [==============================] - 0s 2ms/step - loss: 0.4377 - accuracy: 0.7977\n",
            "Epoch 5/100\n",
            "219/219 [==============================] - 0s 2ms/step - loss: 0.4297 - accuracy: 0.7979\n",
            "Epoch 6/100\n",
            "219/219 [==============================] - 0s 2ms/step - loss: 0.4224 - accuracy: 0.8033\n",
            "Epoch 7/100\n",
            "219/219 [==============================] - 0s 2ms/step - loss: 0.4169 - accuracy: 0.8123\n",
            "Epoch 8/100\n",
            "219/219 [==============================] - 0s 1ms/step - loss: 0.4120 - accuracy: 0.8154\n",
            "Epoch 9/100\n",
            "219/219 [==============================] - 0s 2ms/step - loss: 0.4080 - accuracy: 0.8193\n",
            "Epoch 10/100\n",
            "219/219 [==============================] - 0s 2ms/step - loss: 0.4040 - accuracy: 0.8196\n",
            "Epoch 11/100\n",
            "219/219 [==============================] - 0s 2ms/step - loss: 0.4008 - accuracy: 0.8227\n",
            "Epoch 12/100\n",
            "219/219 [==============================] - 0s 2ms/step - loss: 0.3979 - accuracy: 0.8219\n",
            "Epoch 13/100\n",
            "219/219 [==============================] - 0s 2ms/step - loss: 0.3953 - accuracy: 0.8227\n",
            "Epoch 14/100\n",
            "219/219 [==============================] - 0s 2ms/step - loss: 0.3939 - accuracy: 0.8240\n",
            "Epoch 15/100\n",
            "219/219 [==============================] - 0s 2ms/step - loss: 0.3913 - accuracy: 0.8257\n",
            "Epoch 16/100\n",
            "219/219 [==============================] - 0s 2ms/step - loss: 0.3890 - accuracy: 0.8256\n",
            "Epoch 17/100\n",
            "219/219 [==============================] - 0s 2ms/step - loss: 0.3869 - accuracy: 0.8290\n",
            "Epoch 18/100\n",
            "219/219 [==============================] - 0s 2ms/step - loss: 0.3857 - accuracy: 0.8316\n",
            "Epoch 19/100\n",
            "219/219 [==============================] - 0s 2ms/step - loss: 0.3842 - accuracy: 0.8309\n",
            "Epoch 20/100\n",
            "219/219 [==============================] - 0s 2ms/step - loss: 0.3826 - accuracy: 0.8327\n",
            "Epoch 21/100\n",
            "219/219 [==============================] - 0s 2ms/step - loss: 0.3802 - accuracy: 0.8347\n",
            "Epoch 22/100\n",
            "219/219 [==============================] - 0s 1ms/step - loss: 0.3800 - accuracy: 0.8344\n",
            "Epoch 23/100\n",
            "219/219 [==============================] - 0s 2ms/step - loss: 0.3782 - accuracy: 0.8350\n",
            "Epoch 24/100\n",
            "219/219 [==============================] - 0s 2ms/step - loss: 0.3771 - accuracy: 0.8366\n",
            "Epoch 25/100\n",
            "219/219 [==============================] - 0s 2ms/step - loss: 0.3752 - accuracy: 0.8380\n",
            "Epoch 26/100\n",
            "219/219 [==============================] - 0s 2ms/step - loss: 0.3735 - accuracy: 0.8366\n",
            "Epoch 27/100\n",
            "219/219 [==============================] - 0s 2ms/step - loss: 0.3725 - accuracy: 0.8387\n",
            "Epoch 28/100\n",
            "219/219 [==============================] - 0s 2ms/step - loss: 0.3711 - accuracy: 0.8399\n",
            "Epoch 29/100\n",
            "219/219 [==============================] - 0s 2ms/step - loss: 0.3687 - accuracy: 0.8416\n",
            "Epoch 30/100\n",
            "219/219 [==============================] - 0s 2ms/step - loss: 0.3668 - accuracy: 0.8420\n",
            "Epoch 31/100\n",
            "219/219 [==============================] - 0s 2ms/step - loss: 0.3646 - accuracy: 0.8433\n",
            "Epoch 32/100\n",
            "219/219 [==============================] - 0s 1ms/step - loss: 0.3632 - accuracy: 0.8443\n",
            "Epoch 33/100\n",
            "219/219 [==============================] - 0s 2ms/step - loss: 0.3616 - accuracy: 0.8483\n",
            "Epoch 34/100\n",
            "219/219 [==============================] - 0s 2ms/step - loss: 0.3582 - accuracy: 0.8484\n",
            "Epoch 35/100\n",
            "219/219 [==============================] - 0s 2ms/step - loss: 0.3558 - accuracy: 0.8546\n",
            "Epoch 36/100\n",
            "219/219 [==============================] - 0s 2ms/step - loss: 0.3500 - accuracy: 0.8580\n",
            "Epoch 37/100\n",
            "219/219 [==============================] - 0s 2ms/step - loss: 0.3470 - accuracy: 0.8591\n",
            "Epoch 38/100\n",
            "219/219 [==============================] - 0s 2ms/step - loss: 0.3433 - accuracy: 0.8609\n",
            "Epoch 39/100\n",
            "219/219 [==============================] - 0s 2ms/step - loss: 0.3405 - accuracy: 0.8639\n",
            "Epoch 40/100\n",
            "219/219 [==============================] - 0s 2ms/step - loss: 0.3383 - accuracy: 0.8619\n",
            "Epoch 41/100\n",
            "219/219 [==============================] - 0s 2ms/step - loss: 0.3390 - accuracy: 0.8629\n",
            "Epoch 42/100\n",
            "219/219 [==============================] - 0s 2ms/step - loss: 0.3359 - accuracy: 0.8626\n",
            "Epoch 43/100\n",
            "219/219 [==============================] - 0s 2ms/step - loss: 0.3358 - accuracy: 0.8636\n",
            "Epoch 44/100\n",
            "219/219 [==============================] - 0s 2ms/step - loss: 0.3347 - accuracy: 0.8636\n",
            "Epoch 45/100\n",
            "219/219 [==============================] - 0s 2ms/step - loss: 0.3340 - accuracy: 0.8654\n",
            "Epoch 46/100\n",
            "219/219 [==============================] - 0s 1ms/step - loss: 0.3351 - accuracy: 0.8636\n",
            "Epoch 47/100\n",
            "219/219 [==============================] - 0s 2ms/step - loss: 0.3333 - accuracy: 0.8650\n",
            "Epoch 48/100\n",
            "219/219 [==============================] - 0s 2ms/step - loss: 0.3334 - accuracy: 0.8623\n",
            "Epoch 49/100\n",
            "219/219 [==============================] - 0s 2ms/step - loss: 0.3322 - accuracy: 0.8649\n",
            "Epoch 50/100\n",
            "219/219 [==============================] - 0s 2ms/step - loss: 0.3327 - accuracy: 0.8641\n",
            "Epoch 51/100\n",
            "219/219 [==============================] - 0s 2ms/step - loss: 0.3317 - accuracy: 0.8654\n",
            "Epoch 52/100\n",
            "219/219 [==============================] - 0s 2ms/step - loss: 0.3322 - accuracy: 0.8666\n",
            "Epoch 53/100\n",
            "219/219 [==============================] - 0s 2ms/step - loss: 0.3313 - accuracy: 0.8646\n",
            "Epoch 54/100\n",
            "219/219 [==============================] - 0s 2ms/step - loss: 0.3306 - accuracy: 0.8650\n",
            "Epoch 55/100\n",
            "219/219 [==============================] - 0s 1ms/step - loss: 0.3315 - accuracy: 0.8663\n",
            "Epoch 56/100\n",
            "219/219 [==============================] - 0s 2ms/step - loss: 0.3310 - accuracy: 0.8639\n",
            "Epoch 57/100\n",
            "219/219 [==============================] - 0s 2ms/step - loss: 0.3312 - accuracy: 0.8620\n",
            "Epoch 58/100\n",
            "219/219 [==============================] - 0s 2ms/step - loss: 0.3307 - accuracy: 0.8657\n",
            "Epoch 59/100\n",
            "219/219 [==============================] - 0s 2ms/step - loss: 0.3305 - accuracy: 0.8654\n",
            "Epoch 60/100\n",
            "219/219 [==============================] - 0s 2ms/step - loss: 0.3298 - accuracy: 0.8663\n",
            "Epoch 61/100\n",
            "219/219 [==============================] - 0s 1ms/step - loss: 0.3299 - accuracy: 0.8657\n",
            "Epoch 62/100\n",
            "219/219 [==============================] - 0s 2ms/step - loss: 0.3296 - accuracy: 0.8661\n",
            "Epoch 63/100\n",
            "219/219 [==============================] - 0s 2ms/step - loss: 0.3282 - accuracy: 0.8657\n",
            "Epoch 64/100\n",
            "219/219 [==============================] - 0s 2ms/step - loss: 0.3286 - accuracy: 0.8660\n",
            "Epoch 65/100\n",
            "219/219 [==============================] - 0s 2ms/step - loss: 0.3288 - accuracy: 0.8673\n",
            "Epoch 66/100\n",
            "219/219 [==============================] - 0s 2ms/step - loss: 0.3283 - accuracy: 0.8679\n",
            "Epoch 67/100\n",
            "219/219 [==============================] - 0s 2ms/step - loss: 0.3284 - accuracy: 0.8670\n",
            "Epoch 68/100\n",
            "219/219 [==============================] - 0s 2ms/step - loss: 0.3282 - accuracy: 0.8674\n",
            "Epoch 69/100\n",
            "219/219 [==============================] - 0s 2ms/step - loss: 0.3279 - accuracy: 0.8649\n",
            "Epoch 70/100\n",
            "219/219 [==============================] - 0s 2ms/step - loss: 0.3281 - accuracy: 0.8673\n",
            "Epoch 71/100\n",
            "219/219 [==============================] - 0s 2ms/step - loss: 0.3272 - accuracy: 0.8659\n",
            "Epoch 72/100\n",
            "219/219 [==============================] - 0s 2ms/step - loss: 0.3280 - accuracy: 0.8663\n",
            "Epoch 73/100\n",
            "219/219 [==============================] - 0s 2ms/step - loss: 0.3275 - accuracy: 0.8669\n",
            "Epoch 74/100\n",
            "219/219 [==============================] - 0s 2ms/step - loss: 0.3267 - accuracy: 0.8669\n",
            "Epoch 75/100\n",
            "219/219 [==============================] - 0s 2ms/step - loss: 0.3267 - accuracy: 0.8666\n",
            "Epoch 76/100\n",
            "219/219 [==============================] - 0s 2ms/step - loss: 0.3269 - accuracy: 0.8700\n",
            "Epoch 77/100\n",
            "219/219 [==============================] - 0s 2ms/step - loss: 0.3270 - accuracy: 0.8667\n",
            "Epoch 78/100\n",
            "219/219 [==============================] - 0s 2ms/step - loss: 0.3276 - accuracy: 0.8687\n",
            "Epoch 79/100\n",
            "219/219 [==============================] - 0s 2ms/step - loss: 0.3268 - accuracy: 0.8661\n",
            "Epoch 80/100\n",
            "219/219 [==============================] - 0s 2ms/step - loss: 0.3274 - accuracy: 0.8669\n",
            "Epoch 81/100\n",
            "219/219 [==============================] - 0s 2ms/step - loss: 0.3267 - accuracy: 0.8677\n",
            "Epoch 82/100\n",
            "219/219 [==============================] - 0s 2ms/step - loss: 0.3265 - accuracy: 0.8669\n",
            "Epoch 83/100\n",
            "219/219 [==============================] - 0s 2ms/step - loss: 0.3261 - accuracy: 0.8671\n",
            "Epoch 84/100\n",
            "219/219 [==============================] - 0s 2ms/step - loss: 0.3255 - accuracy: 0.8669\n",
            "Epoch 85/100\n",
            "219/219 [==============================] - 0s 2ms/step - loss: 0.3253 - accuracy: 0.8670\n",
            "Epoch 86/100\n",
            "219/219 [==============================] - 0s 2ms/step - loss: 0.3256 - accuracy: 0.8677\n",
            "Epoch 87/100\n",
            "219/219 [==============================] - 0s 2ms/step - loss: 0.3256 - accuracy: 0.8691\n",
            "Epoch 88/100\n",
            "219/219 [==============================] - 0s 2ms/step - loss: 0.3240 - accuracy: 0.8666\n",
            "Epoch 89/100\n",
            "219/219 [==============================] - 0s 2ms/step - loss: 0.3256 - accuracy: 0.8691\n",
            "Epoch 90/100\n",
            "219/219 [==============================] - 0s 2ms/step - loss: 0.3257 - accuracy: 0.8671\n",
            "Epoch 91/100\n",
            "219/219 [==============================] - 0s 2ms/step - loss: 0.3257 - accuracy: 0.8659\n",
            "Epoch 92/100\n",
            "219/219 [==============================] - 0s 2ms/step - loss: 0.3257 - accuracy: 0.8663\n",
            "Epoch 93/100\n",
            "219/219 [==============================] - 0s 2ms/step - loss: 0.3251 - accuracy: 0.8706\n",
            "Epoch 94/100\n",
            "219/219 [==============================] - 0s 2ms/step - loss: 0.3251 - accuracy: 0.8681\n",
            "Epoch 95/100\n",
            "219/219 [==============================] - 0s 2ms/step - loss: 0.3251 - accuracy: 0.8696\n",
            "Epoch 96/100\n",
            "219/219 [==============================] - 0s 2ms/step - loss: 0.3251 - accuracy: 0.8681\n",
            "Epoch 97/100\n",
            "219/219 [==============================] - 0s 2ms/step - loss: 0.3247 - accuracy: 0.8679\n",
            "Epoch 98/100\n",
            "219/219 [==============================] - 0s 2ms/step - loss: 0.3251 - accuracy: 0.8660\n",
            "Epoch 99/100\n",
            "219/219 [==============================] - 1s 3ms/step - loss: 0.3249 - accuracy: 0.8666\n",
            "Epoch 100/100\n",
            "219/219 [==============================] - 0s 2ms/step - loss: 0.3248 - accuracy: 0.8669\n"
          ]
        },
        {
          "output_type": "execute_result",
          "data": {
            "text/plain": [
              "<keras.callbacks.History at 0x7ff86ceb73d0>"
            ]
          },
          "metadata": {},
          "execution_count": 18
        }
      ]
    },
    {
      "cell_type": "markdown",
      "metadata": {
        "id": "tJj5k2MxZga3"
      },
      "source": [
        "## Part 4 - Making the predictions and evaluating the model"
      ]
    },
    {
      "cell_type": "markdown",
      "metadata": {
        "id": "84QFoqGYeXHL"
      },
      "source": [
        "### Predicting the result of a single observation"
      ]
    },
    {
      "cell_type": "markdown",
      "metadata": {
        "id": "CGRo3eacgDdC"
      },
      "source": [
        "**Homework**\n",
        "\n",
        "Use our ANN model to predict if the customer with the following informations will leave the bank: \n",
        "\n",
        "Geography: France\n",
        "\n",
        "Credit Score: 600\n",
        "\n",
        "Gender: Male\n",
        "\n",
        "Age: 40 years old\n",
        "\n",
        "Tenure: 3 years\n",
        "\n",
        "Balance: \\$ 60000\n",
        "\n",
        "Number of Products: 2\n",
        "\n",
        "Does this customer have a credit card? Yes\n",
        "\n",
        "Is this customer an Active Member: Yes\n",
        "\n",
        "Estimated Salary: \\$ 50000\n",
        "\n",
        "So, should we say goodbye to that customer?"
      ]
    },
    {
      "cell_type": "markdown",
      "metadata": {
        "id": "ZhU1LTgPg-kH"
      },
      "source": [
        "**Solution**"
      ]
    },
    {
      "cell_type": "code",
      "metadata": {
        "id": "2d8IoCCkeWGL",
        "outputId": "3c0c6072-5f95-4e6f-fa85-72eef58460be",
        "colab": {
          "base_uri": "https://localhost:8080/"
        }
      },
      "source": [
        "print(ann.predict(sc.transform([[1, 0, 0, 600, 1, 40, 3, 60000, 2, 1, 1, 50000]])) > 0.5)"
      ],
      "execution_count": 19,
      "outputs": [
        {
          "output_type": "stream",
          "name": "stdout",
          "text": [
            "[[False]]\n"
          ]
        }
      ]
    },
    {
      "cell_type": "markdown",
      "metadata": {
        "id": "wGjx94g2n7OV"
      },
      "source": [
        "Therefore, our ANN model predicts that this customer stays in the bank!\n",
        "\n",
        "**Important note 1:** Notice that the values of the features were all input in a double pair of square brackets. That's because the \"predict\" method always expects a 2D array as the format of its inputs. And putting our values into a double pair of square brackets makes the input exactly a 2D array.\n",
        "\n",
        "**Important note 2:** Notice also that the \"France\" country was not input as a string in the last column but as \"1, 0, 0\" in the first three columns. That's because of course the predict method expects the one-hot-encoded values of the state, and as we see in the first row of the matrix of features X, \"France\" was encoded as \"1, 0, 0\". And be careful to include these values in the first three columns, because the dummy variables are always created in the first columns."
      ]
    },
    {
      "cell_type": "markdown",
      "metadata": {
        "id": "u7yx47jPZt11"
      },
      "source": [
        "### Predicting the Test set results"
      ]
    },
    {
      "cell_type": "code",
      "metadata": {
        "id": "nIyEeQdRZwgs",
        "outputId": "9e987283-43f3-4feb-ab5f-d9d6d1d1fbb3",
        "colab": {
          "base_uri": "https://localhost:8080/"
        }
      },
      "source": [
        "y_pred = ann.predict(X_test)\n",
        "y_pred = (y_pred > 0.5)\n",
        "print(np.concatenate((y_pred.reshape(len(y_pred),1), y_test.reshape(len(y_test),1)),1))"
      ],
      "execution_count": 20,
      "outputs": [
        {
          "output_type": "stream",
          "name": "stdout",
          "text": [
            "[[0 0]\n",
            " [0 1]\n",
            " [0 0]\n",
            " ...\n",
            " [0 0]\n",
            " [0 0]\n",
            " [1 1]]\n"
          ]
        }
      ]
    },
    {
      "cell_type": "markdown",
      "metadata": {
        "id": "o0oyfLWoaEGw"
      },
      "source": [
        "### Making the Confusion Matrix"
      ]
    },
    {
      "cell_type": "code",
      "metadata": {
        "id": "ci6K_r6LaF6P",
        "outputId": "d7ac10ab-d74d-44f7-8bae-2594446c86bd",
        "colab": {
          "base_uri": "https://localhost:8080/"
        }
      },
      "source": [
        "from sklearn.metrics import confusion_matrix, accuracy_score\n",
        "cm = confusion_matrix(y_test, y_pred)\n",
        "print(cm)\n",
        "accuracy_score(y_test, y_pred)"
      ],
      "execution_count": 21,
      "outputs": [
        {
          "output_type": "stream",
          "name": "stdout",
          "text": [
            "[[2272  107]\n",
            " [ 307  314]]\n"
          ]
        },
        {
          "output_type": "execute_result",
          "data": {
            "text/plain": [
              "0.862"
            ]
          },
          "metadata": {},
          "execution_count": 21
        }
      ]
    },
    {
      "cell_type": "markdown",
      "source": [
        "# **Saving the Model**"
      ],
      "metadata": {
        "id": "8hyjCeSadPFH"
      }
    },
    {
      "cell_type": "code",
      "source": [
        "ann.save('ann_model')"
      ],
      "metadata": {
        "id": "_E0zrQESdTcb"
      },
      "execution_count": 22,
      "outputs": []
    },
    {
      "cell_type": "code",
      "source": [
        "from tensorflow import keras\n",
        "model = keras.models.load_model('ann_model')"
      ],
      "metadata": {
        "id": "BboINyGJdTQ6"
      },
      "execution_count": 23,
      "outputs": []
    },
    {
      "cell_type": "code",
      "source": [
        "print(model.predict(sc.transform([[1, 0, 0, 600, 1, 40, 3, 60000, 2, 1, 1, 50000]])) > 0.5)"
      ],
      "metadata": {
        "colab": {
          "base_uri": "https://localhost:8080/"
        },
        "id": "MaCLq37IdQEV",
        "outputId": "fea28987-7fa8-40a5-d7cc-aeaa42644def"
      },
      "execution_count": 24,
      "outputs": [
        {
          "output_type": "stream",
          "name": "stdout",
          "text": [
            "[[False]]\n"
          ]
        }
      ]
    }
  ]
}